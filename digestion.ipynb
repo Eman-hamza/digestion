{
 "cells": [
  {
   "cell_type": "raw",
   "id": "af3cecc7",
   "metadata": {
    "slideshow": {
     "slide_type": "skip"
    }
   },
   "source": [
    "Human protein sequence"
   ]
  },
  {
   "cell_type": "code",
   "execution_count": 1,
   "id": "471c6657",
   "metadata": {},
   "outputs": [
    {
     "name": "stdout",
     "output_type": "stream",
     "text": [
      "TSLLLAFGLLCLPWLQEGSAFPTIPLSR\n"
     ]
    },
    {
     "data": {
      "text/plain": [
       "22"
      ]
     },
     "execution_count": 1,
     "metadata": {},
     "output_type": "execute_result"
    }
   ],
   "source": [
    "from pyopenms import *\n",
    "from urllib.request import urlretrieve\n",
    "gh = \"https://www.uniprot.org/uniprot/P01241.fasta\"\n",
    "urlretrieve (gh , \"human.fasta\")\n",
    "\n",
    "dig = ProteaseDigestion()\n",
    "dig.getEnzymeName() # Trypsin\n",
    "bsa = \"\".join([l.strip() for l in open(\"human.fasta\").readlines()[1:]])\n",
    "bsa = AASequence.fromString(bsa)\n",
    "# create all digestion products\n",
    "result = [] \n",
    "dig.digest(bsa, result)\n",
    "print(result[1].toString())\n",
    "len(result) # 22 peptides"
   ]
  },
  {
   "cell_type": "code",
   "execution_count": 2,
   "id": "5ba73b6e",
   "metadata": {},
   "outputs": [
    {
     "name": "stdout",
     "output_type": "stream",
     "text": [
      "MATGSR\n",
      "TSLLLAFGLLCLPWLQEGSAFPTIPLSR\n",
      "LFDNAMLR\n",
      "LHQLAFDTYQEFEEAYIPK\n",
      "YSFLQNPQTSLCFSESIPTPSNR\n",
      "EETQQK\n",
      "SNLELLR\n",
      "ISLLLIQSWLEPVQFLR\n",
      "SVFANSLVYGASDSNVYDLLK\n",
      "DLEEGIQTLMGR\n",
      "LEDGSPR\n",
      "TGQIFK\n",
      "QTYSK\n",
      "FDTNSHNDDALLK\n",
      "NYGLLYCFR\n",
      "VETFLR\n",
      "IVQCR\n",
      "SVEGSCGF\n"
     ]
    }
   ],
   "source": [
    "# only create peptides of length 7-40\n",
    "dig.digest(bsa, result, 5, 40)\n",
    "# print the results\n",
    "for s in result:\n",
    "    print(s.toString())"
   ]
  },
  {
   "cell_type": "code",
   "execution_count": 3,
   "id": "fbf8b0a8",
   "metadata": {},
   "outputs": [
    {
     "name": "stdout",
     "output_type": "stream",
     "text": [
      "TSLLLAFGLLCLPWLQEGSAFPTIPLSR\n",
      "LFDNAMLR\n",
      "LHQLAFDTYQEFEEAYIPK\n",
      "YSFLQNPQTSLCFSESIPTPSNR\n",
      "SNLELLR\n",
      "ISLLLIQSWLEPVQFLR\n",
      "SVFANSLVYGASDSNVYDLLK\n",
      "DLEEGIQTLMGR\n",
      "LEDGSPR\n",
      "FDTNSHNDDALLK\n",
      "NYGLLYCFR\n",
      "SVEGSCGF\n",
      "MATGSRTSLLLAFGLLCLPWLQEGSAFPTIPLSR\n",
      "TSLLLAFGLLCLPWLQEGSAFPTIPLSRLFDNAMLR\n",
      "LFDNAMLRAHR\n",
      "AHRLHQLAFDTYQEFEEAYIPK\n",
      "LHQLAFDTYQEFEEAYIPKEQK\n",
      "EQKYSFLQNPQTSLCFSESIPTPSNR\n",
      "YSFLQNPQTSLCFSESIPTPSNREETQQK\n",
      "EETQQKSNLELLR\n",
      "SNLELLRISLLLIQSWLEPVQFLR\n",
      "ISLLLIQSWLEPVQFLRSVFANSLVYGASDSNVYDLLK\n",
      "SVFANSLVYGASDSNVYDLLKDLEEGIQTLMGR\n",
      "DLEEGIQTLMGRLEDGSPR\n",
      "LEDGSPRTGQIFK\n",
      "TGQIFKQTYSK\n",
      "QTYSKFDTNSHNDDALLK\n",
      "FDTNSHNDDALLKNYGLLYCFR\n",
      "NYGLLYCFRK\n",
      "DMDKVETFLR\n",
      "VETFLRIVQCR\n",
      "IVQCRSVEGSCGF\n",
      "MATGSRTSLLLAFGLLCLPWLQEGSAFPTIPLSRLFDNAMLR\n",
      "TSLLLAFGLLCLPWLQEGSAFPTIPLSRLFDNAMLRAHR\n",
      "LFDNAMLRAHRLHQLAFDTYQEFEEAYIPK\n",
      "AHRLHQLAFDTYQEFEEAYIPKEQK\n",
      "LHQLAFDTYQEFEEAYIPKEQKYSFLQNPQTSLCFSESIPTPSNR\n",
      "EQKYSFLQNPQTSLCFSESIPTPSNREETQQK\n",
      "YSFLQNPQTSLCFSESIPTPSNREETQQKSNLELLR\n",
      "EETQQKSNLELLRISLLLIQSWLEPVQFLR\n",
      "SNLELLRISLLLIQSWLEPVQFLRSVFANSLVYGASDSNVYDLLK\n",
      "ISLLLIQSWLEPVQFLRSVFANSLVYGASDSNVYDLLKDLEEGIQTLMGR\n",
      "SVFANSLVYGASDSNVYDLLKDLEEGIQTLMGRLEDGSPR\n",
      "DLEEGIQTLMGRLEDGSPRTGQIFK\n",
      "LEDGSPRTGQIFKQTYSK\n",
      "TGQIFKQTYSKFDTNSHNDDALLK\n",
      "QTYSKFDTNSHNDDALLKNYGLLYCFR\n",
      "FDTNSHNDDALLKNYGLLYCFRK\n",
      "NYGLLYCFRKDMDK\n",
      "KDMDKVETFLR\n",
      "DMDKVETFLRIVQCR\n",
      "VETFLRIVQCRSVEGSCGF\n",
      "MATGSRTSLLLAFGLLCLPWLQEGSAFPTIPLSRLFDNAMLRAHR\n",
      "TSLLLAFGLLCLPWLQEGSAFPTIPLSRLFDNAMLRAHRLHQLAFDTYQEFEEAYIPK\n",
      "LFDNAMLRAHRLHQLAFDTYQEFEEAYIPKEQK\n",
      "AHRLHQLAFDTYQEFEEAYIPKEQKYSFLQNPQTSLCFSESIPTPSNR\n",
      "LHQLAFDTYQEFEEAYIPKEQKYSFLQNPQTSLCFSESIPTPSNREETQQK\n",
      "EQKYSFLQNPQTSLCFSESIPTPSNREETQQKSNLELLR\n",
      "YSFLQNPQTSLCFSESIPTPSNREETQQKSNLELLRISLLLIQSWLEPVQFLR\n",
      "EETQQKSNLELLRISLLLIQSWLEPVQFLRSVFANSLVYGASDSNVYDLLK\n",
      "SNLELLRISLLLIQSWLEPVQFLRSVFANSLVYGASDSNVYDLLKDLEEGIQTLMGR\n",
      "ISLLLIQSWLEPVQFLRSVFANSLVYGASDSNVYDLLKDLEEGIQTLMGRLEDGSPR\n",
      "SVFANSLVYGASDSNVYDLLKDLEEGIQTLMGRLEDGSPRTGQIFK\n",
      "DLEEGIQTLMGRLEDGSPRTGQIFKQTYSK\n",
      "LEDGSPRTGQIFKQTYSKFDTNSHNDDALLK\n",
      "TGQIFKQTYSKFDTNSHNDDALLKNYGLLYCFR\n",
      "QTYSKFDTNSHNDDALLKNYGLLYCFRK\n",
      "FDTNSHNDDALLKNYGLLYCFRKDMDK\n",
      "NYGLLYCFRKDMDKVETFLR\n",
      "KDMDKVETFLRIVQCR\n",
      "DMDKVETFLRIVQCRSVEGSCGF\n"
     ]
    }
   ],
   "source": [
    "# Allow two missed cleavages\n",
    "dig.setMissedCleavages(3)\n",
    "# only create peptides of length 7-40\n",
    "dig.digest(bsa, result, 7, 60)\n",
    "# print the results\n",
    "for s in result:\n",
    "    print(s.toString())"
   ]
  },
  {
   "cell_type": "code",
   "execution_count": 6,
   "id": "8d1d1fde",
   "metadata": {},
   "outputs": [
    {
     "name": "stdout",
     "output_type": "stream",
     "text": [
      "HILR\n"
     ]
    },
    {
     "data": {
      "text/plain": [
       "54"
      ]
     },
     "execution_count": 6,
     "metadata": {},
     "output_type": "execute_result"
    }
   ],
   "source": [
    "from urllib.request import urlretrieve\n",
    "gh = \"https://www.uniprot.org/uniprot/P46672.fasta\"\n",
    "urlretrieve (gh , \"YEAST.fasta\")\n",
    "\n",
    "dig = ProteaseDigestion()\n",
    "dig.getEnzymeName() # Trypsin\n",
    "bsa = \"\".join([l.strip() for l in open(\"YEAST.fasta\").readlines()[1:]])\n",
    "bsa = AASequence.fromString(bsa)\n",
    "# create all digestion products\n",
    "result = []\n",
    "dig.digest(bsa, result)\n",
    "print(result[9].toString())\n",
    "len(result) # 54 peptides"
   ]
  },
  {
   "cell_type": "code",
   "execution_count": 7,
   "id": "ccc33802",
   "metadata": {},
   "outputs": [
    {
     "name": "stdout",
     "output_type": "stream",
     "text": [
      "MSDLVTK\n",
      "FESLIISK\n",
      "YPVSFTK\n",
      "EQSAQAAQWESVLK\n",
      "SGQIQPHLDQLNLVLR\n",
      "DNTFIVSTLYPTSTDVHVFEVALPLIK\n",
      "DLVASSK\n",
      "STYTTYR\n",
      "WIDYMQNLLEVSSTDK\n",
      "LEINHDLDLPHEVIEK\n",
      "APAGGAADAAAK\n",
      "ADEDVSK\n",
      "GKPDEETLK\n",
      "QQQEQQNK\n",
      "APEKPKPSAIDFR\n",
      "HPDADSLYVSTIDVGDEEGPR\n",
      "TVCSGLVK\n",
      "HFPLDAMQER\n",
      "YVVVVCNLKPVNMR\n",
      "STAMVLCGSNDDK\n",
      "VEFVEPPK\n",
      "VFFEGFGDEAPMK\n",
      "IWEHLQPHFTTNDGLEVIFK\n",
      "VASIANAQVR\n"
     ]
    }
   ],
   "source": [
    "# only create peptides of length 7-40\n",
    "dig.digest(bsa, result, 7, 40)\n",
    "# print the results\n",
    "for s in result:\n",
    "    print(s.toString())"
   ]
  },
  {
   "cell_type": "code",
   "execution_count": 8,
   "id": "839e1caf",
   "metadata": {},
   "outputs": [
    {
     "name": "stdout",
     "output_type": "stream",
     "text": [
      "MSDLVTK\n",
      "FESLIISK\n",
      "YPVSFTK\n",
      "EQSAQAAQWESVLK\n",
      "SGQIQPHLDQLNLVLR\n",
      "DNTFIVSTLYPTSTDVHVFEVALPLIK\n",
      "DLVASSK\n",
      "STYTTYR\n",
      "WIDYMQNLLEVSSTDK\n",
      "LEINHDLDLPHEVIEK\n",
      "APAGGAADAAAK\n",
      "ADEDVSK\n",
      "GKPDEETLK\n",
      "QQQEQQNK\n",
      "APEKPKPSAIDFR\n",
      "HPDADSLYVSTIDVGDEEGPR\n",
      "TVCSGLVK\n",
      "HFPLDAMQER\n",
      "YVVVVCNLKPVNMR\n",
      "STAMVLCGSNDDK\n",
      "VEFVEPPK\n",
      "VFFEGFGDEAPMK\n",
      "IWEHLQPHFTTNDGLEVIFK\n",
      "VASIANAQVR\n",
      "MSDLVTKFESLIISK\n",
      "FESLIISKYPVSFTK\n",
      "YPVSFTKEQSAQAAQWESVLK\n",
      "EQSAQAAQWESVLKSGQIQPHLDQLNLVLR\n",
      "DNTFIVSTLYPTSTDVHVFEVALPLIKDLVASSK\n",
      "DLVASSKDVK\n",
      "DVKSTYTTYR\n",
      "STYTTYRHILR\n",
      "HILRWIDYMQNLLEVSSTDK\n",
      "WIDYMQNLLEVSSTDKLEINHDLDLPHEVIEK\n",
      "LEINHDLDLPHEVIEKK\n",
      "KAPAGGAADAAAK\n",
      "APAGGAADAAAKADEDVSK\n",
      "ADEDVSKK\n",
      "QDHPRGKPDEETLK\n",
      "GKPDEETLKK\n",
      "AANAKQQQEQQNK\n",
      "QQQEQQNKAPEKPKPSAIDFR\n",
      "APEKPKPSAIDFRVGFIQK\n",
      "VGFIQKAIK\n",
      "AIKHPDADSLYVSTIDVGDEEGPR\n",
      "HPDADSLYVSTIDVGDEEGPRTVCSGLVK\n",
      "TVCSGLVKHFPLDAMQER\n",
      "HFPLDAMQERYVVVVCNLKPVNMR\n",
      "YVVVVCNLKPVNMRGIK\n",
      "GIKSTAMVLCGSNDDK\n",
      "STAMVLCGSNDDKVEFVEPPK\n",
      "VEFVEPPKDSK\n",
      "DSKAGDK\n",
      "AGDKVFFEGFGDEAPMK\n",
      "VFFEGFGDEAPMKQLNPK\n",
      "KIWEHLQPHFTTNDGLEVIFK\n",
      "IWEHLQPHFTTNDGLEVIFKDEEEK\n",
      "DEEEKDHPVR\n",
      "LTNAKGESFK\n",
      "GESFKVASIANAQVR\n",
      "MSDLVTKFESLIISKYPVSFTK\n",
      "FESLIISKYPVSFTKEQSAQAAQWESVLK\n",
      "YPVSFTKEQSAQAAQWESVLKSGQIQPHLDQLNLVLR\n",
      "DNTFIVSTLYPTSTDVHVFEVALPLIKDLVASSKDVK\n",
      "DLVASSKDVKSTYTTYR\n",
      "DVKSTYTTYRHILR\n",
      "STYTTYRHILRWIDYMQNLLEVSSTDK\n",
      "HILRWIDYMQNLLEVSSTDKLEINHDLDLPHEVIEK\n",
      "WIDYMQNLLEVSSTDKLEINHDLDLPHEVIEKK\n",
      "LEINHDLDLPHEVIEKKK\n",
      "KKAPAGGAADAAAK\n",
      "KAPAGGAADAAAKADEDVSK\n",
      "APAGGAADAAAKADEDVSKK\n",
      "ADEDVSKKAK\n",
      "AKKQDHPR\n",
      "KQDHPRGKPDEETLK\n",
      "QDHPRGKPDEETLKK\n",
      "GKPDEETLKKLR\n",
      "KLREEAK\n",
      "LREEAKAK\n",
      "EEAKAKK\n",
      "AAKKAANAK\n",
      "KAANAKQQQEQQNK\n",
      "AANAKQQQEQQNKAPEKPKPSAIDFR\n",
      "QQQEQQNKAPEKPKPSAIDFRVGFIQK\n",
      "APEKPKPSAIDFRVGFIQKAIK\n",
      "VGFIQKAIKHPDADSLYVSTIDVGDEEGPR\n",
      "AIKHPDADSLYVSTIDVGDEEGPRTVCSGLVK\n",
      "HPDADSLYVSTIDVGDEEGPRTVCSGLVKHFPLDAMQER\n",
      "TVCSGLVKHFPLDAMQERYVVVVCNLKPVNMR\n",
      "HFPLDAMQERYVVVVCNLKPVNMRGIK\n",
      "YVVVVCNLKPVNMRGIKSTAMVLCGSNDDK\n",
      "GIKSTAMVLCGSNDDKVEFVEPPK\n",
      "STAMVLCGSNDDKVEFVEPPKDSK\n",
      "VEFVEPPKDSKAGDK\n",
      "DSKAGDKVFFEGFGDEAPMK\n",
      "AGDKVFFEGFGDEAPMKQLNPK\n",
      "VFFEGFGDEAPMKQLNPKK\n",
      "QLNPKKK\n",
      "KKIWEHLQPHFTTNDGLEVIFK\n",
      "KIWEHLQPHFTTNDGLEVIFKDEEEK\n",
      "IWEHLQPHFTTNDGLEVIFKDEEEKDHPVR\n",
      "DEEEKDHPVRK\n",
      "DHPVRKLTNAK\n",
      "KLTNAKGESFK\n",
      "LTNAKGESFKVASIANAQVR\n"
     ]
    }
   ],
   "source": [
    "# Allow two missed cleavages\n",
    "dig.setMissedCleavages(2)\n",
    "# only create peptides of length 7-40\n",
    "dig.digest(bsa, result, 7, 40)\n",
    "# print the results\n",
    "for s in result:\n",
    "    print(s.toString())"
   ]
  },
  {
   "cell_type": "code",
   "execution_count": 9,
   "id": "18b1e75b",
   "metadata": {},
   "outputs": [
    {
     "name": "stdout",
     "output_type": "stream",
     "text": [
      "[b'Asp-N_ambic', b'Arg-C', b'Trypsin', b'Asp-N/B', b'Asp-N', b'CNBr', b'Arg-C/P', b'Chymotrypsin', b'Chymotrypsin/P', b'Formic_acid', b'Lys-C', b'PepsinA', b'leukocyte elastase', b'TrypChymo', b'iodosobenzoate', b'glutamyl endopeptidase', b'V8-E', b'V8-DE', b'Trypsin/P', b'Alpha-lytic protease', b'Lys-N', b'proline endopeptidase', b'2-iodobenzoate', b'Lys-C/P', b'proline-endopeptidase/HKR', b'Clostripain/P', b'cyanogen-bromide', b'staphylococcal protease/D', b'unspecific cleavage', b'PepsinA + P', b'elastase-trypsin-chymotrypsin', b'no cleavage', b'Glu-C+P']\n"
     ]
    },
    {
     "data": {
      "text/plain": [
       "'Lys-C cuts after K if not followed by P.'"
      ]
     },
     "execution_count": 9,
     "metadata": {},
     "output_type": "execute_result"
    }
   ],
   "source": [
    "names = []\n",
    "ProteaseDB().getAllNames(names)\n",
    "len(names) # at least 25 by default\n",
    "print(names)\n",
    "\n",
    "e = ProteaseDB().getEnzyme('Lys-C')\n",
    "e.getRegExDescription()"
   ]
  },
  {
   "cell_type": "code",
   "execution_count": 10,
   "id": "2ffa490a",
   "metadata": {},
   "outputs": [
    {
     "name": "stdout",
     "output_type": "stream",
     "text": [
      "FDTNSHNDDALLK\n"
     ]
    },
    {
     "data": {
      "text/plain": [
       "10"
      ]
     },
     "execution_count": 10,
     "metadata": {},
     "output_type": "execute_result"
    }
   ],
   "source": [
    "from urllib.request import urlretrieve\n",
    "gh = \"https://www.uniprot.org/uniprot/P01241.fasta\"\n",
    "urlretrieve (gh , \"human.fasta\")\n",
    "\n",
    "dig = ProteaseDigestion()\n",
    "dig.setEnzyme('Lys-C')\n",
    "bsa = \"\".join([l.strip() for l in open(\"human.fasta\").readlines()[1:]])\n",
    "bsa = AASequence.fromString(bsa)\n",
    "result = []\n",
    "dig.digest(bsa, result)\n",
    "print(result[6].toString())\n",
    "len(result) # 10 peptides"
   ]
  },
  {
   "cell_type": "code",
   "execution_count": 12,
   "id": "eb1d76a9",
   "metadata": {},
   "outputs": [
    {
     "name": "stdout",
     "output_type": "stream",
     "text": [
      "SGQIQPHLDQLNLVLRDNTFIVSTLYPTSTDVHVFEVALPLIK\n"
     ]
    },
    {
     "data": {
      "text/plain": [
       "44"
      ]
     },
     "execution_count": 12,
     "metadata": {},
     "output_type": "execute_result"
    }
   ],
   "source": [
    "gh = \"https://www.uniprot.org/uniprot/P46672.fasta\"\n",
    "urlretrieve (gh , \"YEAST.fasta\")\n",
    "\n",
    "dig = ProteaseDigestion()\n",
    "dig.setEnzyme('Lys-C')\n",
    "bsa = \"\".join([l.strip() for l in open(\"YEAST.fasta\").readlines()[1:]])\n",
    "bsa = AASequence.fromString(bsa)\n",
    "result = []\n",
    "dig.digest(bsa, result)\n",
    "print(result[4].toString())\n",
    "len(result) # 44 peptides"
   ]
  },
  {
   "cell_type": "code",
   "execution_count": null,
   "id": "7a53ea85",
   "metadata": {},
   "outputs": [],
   "source": []
  }
 ],
 "metadata": {
  "celltoolbar": "Slideshow",
  "kernelspec": {
   "display_name": "Python 3 (ipykernel)",
   "language": "python",
   "name": "python3"
  },
  "language_info": {
   "codemirror_mode": {
    "name": "ipython",
    "version": 3
   },
   "file_extension": ".py",
   "mimetype": "text/x-python",
   "name": "python",
   "nbconvert_exporter": "python",
   "pygments_lexer": "ipython3",
   "version": "3.9.7"
  }
 },
 "nbformat": 4,
 "nbformat_minor": 5
}
